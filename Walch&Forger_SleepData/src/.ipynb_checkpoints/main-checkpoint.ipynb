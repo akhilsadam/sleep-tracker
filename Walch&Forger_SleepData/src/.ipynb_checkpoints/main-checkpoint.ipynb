{
 "cells": [
  {
   "cell_type": "markdown",
   "metadata": {},
   "source": [
    "## Replication of Results in Dr. Walch's Paper:\n",
    "    # sleep stage prediction with raw acceleration and photoplethysmography heart rate data derived from a consumer wearable device\n",
    "    # https://academic.oup.com/sleep/article/42/12/zsz180/5549536\n",
    "    \n",
    "    # an ML-based approach (not ODE-based)\n",
    "    \n",
    "    # Works Cited:\n",
    "    \n",
    "    Walch, O. (2019). Motion and heart rate from a wrist-worn wearable and labeled sleep from polysomnography (version 1.0.0). PhysioNet. https://doi.org/10.13026/hmhs-py35.\n",
    "    \n",
    "    Olivia Walch, Yitong Huang, Daniel Forger, Cathy Goldstein, Sleep stage prediction with raw acceleration and photoplethysmography heart rate data derived from a consumer wearable device, Sleep, Volume 42, Issue 12, December 2019, zsz180, https://doi.org/10.1093/sleep/zsz180\n",
    "    \n",
    "    Goldberger, A., Amaral, L., Glass, L., Hausdorff, J., Ivanov, P. C., Mark, R., ... & Stanley, H. E. (2000). PhysioBank, PhysioToolkit, and PhysioNet: Components of a new research resource for complex physiologic signals. Circulation [Online]. 101 (23), pp. e215–e220.\n",
    "    \n",
    "    [Citation for scikit-learn & possibly other packages]"
   ]
  },
  {
   "cell_type": "code",
   "execution_count": 1,
   "metadata": {},
   "outputs": [],
   "source": [
    "import numpy as np\n",
    "import pandas as pd\n",
    "import sklearn as skln\n",
    "import matplotlib.pyplot as plt\n",
    "from scipy import stats\n",
    "from scipy import interpolate\n",
    "from scipy.optimize import curve_fit\n",
    "from tqdm import tqdm\n",
    "import multiprocessing\n",
    "import io,sys,os\n",
    "from pathlib import Path"
   ]
  },
  {
   "cell_type": "code",
   "execution_count": 2,
   "metadata": {},
   "outputs": [],
   "source": [
    "import utils as ul\n",
    "import feature as feat\n",
    "import load"
   ]
  },
  {
   "cell_type": "code",
   "execution_count": 3,
   "metadata": {},
   "outputs": [],
   "source": [
    "nparams = 3\n",
    "nfeat = 5"
   ]
  },
  {
   "cell_type": "code",
   "execution_count": 4,
   "metadata": {},
   "outputs": [],
   "source": [
    "# PATHS:\n",
    "star = '*'\n",
    "stardot = '*.'\n",
    "filetype = '.txt'\n",
    "path_root = \"../\"\n",
    "path_data = path_root+'data/'\n",
    "path_fold = ul.join([path_data],['labels/','heart_rate/','motion/','steps/'])\n",
    "path_filename = ['_labeled_sleep','_heartrate','_acceleration','_steps']\n",
    "path_file = ul.join(path_filename,[filetype])\n",
    "path_out = path_root+\"out/\"\n",
    "#\n",
    "path_idfile = path_out+\"idlist.txt\""
   ]
  },
  {
   "cell_type": "code",
   "execution_count": 5,
   "metadata": {},
   "outputs": [],
   "source": [
    "## INPUT DATA\n",
    "ids = load.configure(path_idfile)\n",
    "\n",
    "# load\n",
    "\n"
   ]
  },
  {
   "cell_type": "code",
   "execution_count": 6,
   "metadata": {},
   "outputs": [
    {
     "data": {
      "text/plain": [
       "['_labeled_sleep.txt', '_heartrate.txt', '_acceleration.txt', '_steps.txt']"
      ]
     },
     "execution_count": 6,
     "metadata": {},
     "output_type": "execute_result"
    }
   ],
   "source": [
    "path_file"
   ]
  },
  {
   "cell_type": "code",
   "execution_count": 7,
   "metadata": {},
   "outputs": [],
   "source": [
    "nPatients = 5#42\n",
    "ids=ids[0:nPatients]"
   ]
  },
  {
   "cell_type": "code",
   "execution_count": 8,
   "metadata": {},
   "outputs": [
    {
     "data": {
      "text/plain": [
       "'../data/heart_rate/1066528_heartrate.txt'"
      ]
     },
     "execution_count": 8,
     "metadata": {},
     "output_type": "execute_result"
    }
   ],
   "source": [
    "path_fold[1]+str(ids[0])+path_file[1]"
   ]
  },
  {
   "cell_type": "code",
   "execution_count": null,
   "metadata": {},
   "outputs": [],
   "source": []
  },
  {
   "cell_type": "code",
   "execution_count": 9,
   "metadata": {},
   "outputs": [
    {
     "name": "stderr",
     "output_type": "stream",
     "text": [
      "100%|██████████████████████████████████████████████████████████████████████████████████████| 5/5 [00:00<00:00, 5012.31it/s]\n",
      "100%|████████████████████████████████████████████████████████████████████████████████████████████████| 5/5 [00:00<?, ?it/s]\n",
      "100%|████████████████████████████████████████████████████████████████████████████████████████████████| 5/5 [00:00<?, ?it/s]\n",
      "100%|████████████████████████████████████████████████████████████████████████████████████████████████| 5/5 [00:00<?, ?it/s]\n"
     ]
    }
   ],
   "source": [
    "data = np.zeros(shape=(nparams+1,nPatients),dtype=object)\n",
    "# data[datatype][patientID]\n",
    "with multiprocessing.Pool(processes=7) as pool:\n",
    "        i=0\n",
    "        pf = path_fold[i]\n",
    "        pl = path_file[i]\n",
    "        data[i] = np.array(list(tqdm(pool.starmap(load.dataloadS,ul.tuplejoin([pf],ids,[pl])))))\n",
    "        i=1\n",
    "        pf = path_fold[i]\n",
    "        pl = path_file[i]\n",
    "        data[i] = np.array(list(tqdm(pool.starmap(load.dataloadC,ul.tuplejoin([pf],ids,[pl])))))\n",
    "        i=2\n",
    "        pf = path_fold[i]\n",
    "        pl = path_file[i]\n",
    "        data[i] = np.array(list(tqdm(pool.starmap(load.dataloadS,ul.tuplejoin([pf],ids,[pl])))))\n",
    "        i=3\n",
    "        pf = path_fold[i]\n",
    "        pl = path_file[i]\n",
    "        data[i] = np.array(list(tqdm(pool.starmap(load.dataloadC,ul.tuplejoin([pf],ids,[pl])))))"
   ]
  },
  {
   "cell_type": "code",
   "execution_count": 10,
   "metadata": {},
   "outputs": [
    {
     "data": {
      "text/plain": [
       "28530.0"
      ]
     },
     "execution_count": 10,
     "metadata": {},
     "output_type": "execute_result"
    }
   ],
   "source": [
    "# making into arrays\n",
    "# note PSG minimal duration from timeMIN to timeMAX with stamp every 30 seconds\n",
    "timeMAX = min(np.array([max(data[0,i][:,0]) for i in range(nPatients)]))\n",
    "timeMIN = 0\n",
    "timeMAX"
   ]
  },
  {
   "cell_type": "code",
   "execution_count": 11,
   "metadata": {},
   "outputs": [],
   "source": [
    "#function\n",
    "def arrayD(idq):\n",
    "    tp = [0,1,2,2,2]\n",
    "    tq = [1,1,1,2,3]\n",
    "    sdata = np.zeros(shape=(nfeat,N))\n",
    "    for u in range(nfeat):\n",
    "        f = interpolate.interp1d(data[tp[U],idq][:,0],data[tp[U],idq][:,tq[U]])\n",
    "        sdata[u,:] = f(x)\n",
    "        print(1)\n",
    "    return sdata"
   ]
  },
  {
   "cell_type": "code",
   "execution_count": null,
   "metadata": {},
   "outputs": [],
   "source": [
    "idq = 1 #patient id\n",
    "# 50 ms interpolated data\n",
    "N = int(timeMAX+1)*20\n",
    "sleep = np.zeros(shape=(nPatients,nfeat,N))\n",
    "x = np.linspace(0,timeMAX,num=N,endpoint=True)\n",
    "with multiprocessing.Pool(processes=7) as pool:\n",
    "    sleep = np.array(list(tqdm(pool.map(arrayD,ids))))"
   ]
  },
  {
   "cell_type": "code",
   "execution_count": null,
   "metadata": {},
   "outputs": [],
   "source": []
  },
  {
   "cell_type": "code",
   "execution_count": null,
   "metadata": {},
   "outputs": [],
   "source": [
    "sleep"
   ]
  },
  {
   "cell_type": "code",
   "execution_count": 58,
   "metadata": {},
   "outputs": [
    {
     "data": {
      "image/png": "[encoded data removed]",
      "text/plain": [
       "<Figure size 1440x720 with 4 Axes>"
      ]
     },
     "metadata": {
      "needs_background": "light"
     },
     "output_type": "display_data"
    }
   ],
   "source": [
    "fig,axs = plt.subplots(4,figsize=(20,10))\n",
    "for ax in axs:\n",
    "    ax.set_xlim([timeMIN,timeMAX])\n",
    "i = 0\n",
    "ax = axs[i]\n",
    "for ide in range(1):\n",
    "    sp = data[i,ide]\n",
    "    ax.scatter(sp[:,0],sp[:,1],s=0.2)\n",
    "    #ax.plot(sp[:,0],sp[:,1])\n",
    "    ax.set_aspect(500)\n",
    "i = 1\n",
    "ax = axs[i]\n",
    "for ide in range(1):\n",
    "    hr = data[i,ide]\n",
    "    ax.scatter(hr[:,0],hr[:,1],s=0.2)\n",
    "    #ax.plot(hr[:,0],hr[:,1])\n",
    "    ax.set_aspect(14)#500)\n",
    "i = 2\n",
    "ax = axs[i]\n",
    "for ide in range(1):\n",
    "    hr = data[i,ide]\n",
    "    ax.scatter(hr[:,0],hr[:,1],s=0.2)\n",
    "    ax.scatter(hr[:,0],hr[:,2],s=0.2)\n",
    "    ax.scatter(hr[:,0],hr[:,3],s=0.2)\n",
    "    #ax.plot(hr[:,0],hr[:,1])\n",
    "    ax.set_aspect(250)#1000)\n",
    "i = 3\n",
    "ax = axs[i]\n",
    "for ide in range(1):\n",
    "    hr = data[i,ide]\n",
    "    ax.scatter(hr[:,0],hr[:,1],s=0.2)\n",
    "    #ax.plot(hr[:,0],hr[:,1])\n",
    "    ax.set_aspect(50)"
   ]
  },
  {
   "cell_type": "code",
   "execution_count": 38,
   "metadata": {},
   "outputs": [
    {
     "ename": "IndexError",
     "evalue": "too many indices for array",
     "output_type": "error",
     "traceback": [
      "\u001b[1;31m---------------------------------------------------------------------------\u001b[0m",
      "\u001b[1;31mIndexError\u001b[0m                                Traceback (most recent call last)",
      "\u001b[1;32m<ipython-input-38-666a0d62bcc9>\u001b[0m in \u001b[0;36m<module>\u001b[1;34m\u001b[0m\n\u001b[1;32m----> 1\u001b[1;33m \u001b[0mdata\u001b[0m\u001b[1;33m[\u001b[0m\u001b[1;33m:\u001b[0m\u001b[1;33m,\u001b[0m\u001b[1;36m0\u001b[0m\u001b[1;33m]\u001b[0m\u001b[1;33m\u001b[0m\u001b[1;33m\u001b[0m\u001b[0m\n\u001b[0m",
      "\u001b[1;31mIndexError\u001b[0m: too many indices for array"
     ]
    }
   ],
   "source": [
    "data[:,0]"
   ]
  },
  {
   "cell_type": "code",
   "execution_count": 26,
   "metadata": {},
   "outputs": [
    {
     "data": {
      "text/html": [
       "<div>\n",
       "<style scoped>\n",
       "    .dataframe tbody tr th:only-of-type {\n",
       "        vertical-align: middle;\n",
       "    }\n",
       "\n",
       "    .dataframe tbody tr th {\n",
       "        vertical-align: top;\n",
       "    }\n",
       "\n",
       "    .dataframe thead th {\n",
       "        text-align: right;\n",
       "    }\n",
       "</style>\n",
       "<table border=\"1\" class=\"dataframe\">\n",
       "  <thead>\n",
       "    <tr style=\"text-align: right;\">\n",
       "      <th></th>\n",
       "      <th>0</th>\n",
       "      <th>1</th>\n",
       "    </tr>\n",
       "  </thead>\n",
       "  <tbody>\n",
       "    <tr>\n",
       "      <th>0</th>\n",
       "      <td>-573802.82896</td>\n",
       "      <td>84.0</td>\n",
       "    </tr>\n",
       "    <tr>\n",
       "      <th>1</th>\n",
       "      <td>-573385.82896</td>\n",
       "      <td>77.0</td>\n",
       "    </tr>\n",
       "    <tr>\n",
       "      <th>2</th>\n",
       "      <td>-573320.82902</td>\n",
       "      <td>75.0</td>\n",
       "    </tr>\n",
       "    <tr>\n",
       "      <th>3</th>\n",
       "      <td>-572814.45419</td>\n",
       "      <td>94.0</td>\n",
       "    </tr>\n",
       "    <tr>\n",
       "      <th>4</th>\n",
       "      <td>-572673.45401</td>\n",
       "      <td>105.0</td>\n",
       "    </tr>\n",
       "    <tr>\n",
       "      <th>...</th>\n",
       "      <td>...</td>\n",
       "      <td>...</td>\n",
       "    </tr>\n",
       "    <tr>\n",
       "      <th>6962</th>\n",
       "      <td>29287.76864</td>\n",
       "      <td>93.0</td>\n",
       "    </tr>\n",
       "    <tr>\n",
       "      <th>6963</th>\n",
       "      <td>29292.76864</td>\n",
       "      <td>93.0</td>\n",
       "    </tr>\n",
       "    <tr>\n",
       "      <th>6964</th>\n",
       "      <td>29298.76867</td>\n",
       "      <td>93.0</td>\n",
       "    </tr>\n",
       "    <tr>\n",
       "      <th>6965</th>\n",
       "      <td>29303.76867</td>\n",
       "      <td>92.0</td>\n",
       "    </tr>\n",
       "    <tr>\n",
       "      <th>6966</th>\n",
       "      <td>29310.76864</td>\n",
       "      <td>95.0</td>\n",
       "    </tr>\n",
       "  </tbody>\n",
       "</table>\n",
       "<p>6967 rows × 2 columns</p>\n",
       "</div>"
      ],
      "text/plain": [
       "                 0      1\n",
       "0    -573802.82896   84.0\n",
       "1    -573385.82896   77.0\n",
       "2    -573320.82902   75.0\n",
       "3    -572814.45419   94.0\n",
       "4    -572673.45401  105.0\n",
       "...            ...    ...\n",
       "6962   29287.76864   93.0\n",
       "6963   29292.76864   93.0\n",
       "6964   29298.76867   93.0\n",
       "6965   29303.76867   92.0\n",
       "6966   29310.76864   95.0\n",
       "\n",
       "[6967 rows x 2 columns]"
      ]
     },
     "execution_count": 26,
     "metadata": {},
     "output_type": "execute_result"
    }
   ],
   "source": [
    "# heartrate\n",
    "df=pd.DataFrame(data[1][1])\n",
    "df"
   ]
  },
  {
   "cell_type": "code",
   "execution_count": null,
   "metadata": {},
   "outputs": [],
   "source": []
  },
  {
   "cell_type": "code",
   "execution_count": null,
   "metadata": {},
   "outputs": [],
   "source": [
    "# heartrate during sleep"
   ]
  }
 ],
 "metadata": {
  "kernelspec": {
   "display_name": "Python 3",
   "language": "python",
   "name": "python3"
  },
  "language_info": {
   "codemirror_mode": {
    "name": "ipython",
    "version": 3
   },
   "file_extension": ".py",
   "mimetype": "text/x-python",
   "name": "python",
   "nbconvert_exporter": "python",
   "pygments_lexer": "ipython3",
   "version": "3.8.1"
  }
 },
 "nbformat": 4,
 "nbformat_minor": 4
}
